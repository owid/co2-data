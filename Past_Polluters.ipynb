{
 "cells": [
  {
   "cell_type": "markdown",
   "metadata": {},
   "source": [
    "# Past polluters, future saviours? A classification of countries"
   ]
  },
  {
   "cell_type": "markdown",
   "metadata": {},
   "source": [
    "**Task:** Gather a dataset that includes countries and their past, present, and future emissions as well as other useful indicators. Classify the countries using hierarchical clustering to generate groups of countries regarding their emission behaviour. Compose a research brief that presents and discusses the data and your results against in the context of climate (in-)justice, global imbalances, and the strive for international climate agreements. The brief shall target academics, policymakers, and civil society alike."
   ]
  },
  {
   "cell_type": "markdown",
   "metadata": {},
   "source": [
    "**Source:** Data on CO2 and Greenhouse Gas Emissions by *Our World in Data*\n",
    "\n",
    "https://ourworldindata.org/co2-and-other-greenhouse-gas-emissions"
   ]
  },
  {
   "cell_type": "markdown",
   "metadata": {},
   "source": []
  }
 ],
 "metadata": {
  "interpreter": {
   "hash": "358dac5cd5fc7e2169b603f368e0961c99254267838239c5497cb566cf3cd58d"
  },
  "kernelspec": {
   "display_name": "Python 3.9.5 64-bit ('base': conda)",
   "language": "python",
   "name": "python3"
  },
  "language_info": {
   "name": "python",
   "version": "3.9.5"
  },
  "orig_nbformat": 4
 },
 "nbformat": 4,
 "nbformat_minor": 2
}
